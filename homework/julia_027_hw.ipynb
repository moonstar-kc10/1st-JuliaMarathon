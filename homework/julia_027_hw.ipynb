{
 "cells": [
  {
   "cell_type": "markdown",
   "metadata": {},
   "source": [
    "# Julia 機器學習：GLM 線性迴歸\n",
    "\n",
    "## 作業 027：波士頓房價預測資料集\n",
    "\n",
    "請使用 GLM 中的模型，建立一個預測模型來預測波士頓的房價。"
   ]
  },
  {
   "cell_type": "code",
   "execution_count": 1,
   "metadata": {},
   "outputs": [],
   "source": [
    "using GLM, RDatasets, MLDataUtils"
   ]
  },
  {
   "cell_type": "markdown",
   "metadata": {},
   "source": [
    "## 讀取資料"
   ]
  },
  {
   "cell_type": "code",
   "execution_count": 2,
   "metadata": {},
   "outputs": [
    {
     "data": {
      "text/html": [
       "<table class=\"data-frame\"><thead><tr><th></th><th>Crim</th><th>Zn</th><th>Indus</th><th>Chas</th><th>NOx</th><th>Rm</th><th>Age</th><th>Dis</th><th>Rad</th><th>Tax</th></tr><tr><th></th><th>Float64</th><th>Float64</th><th>Float64</th><th>Int64</th><th>Float64</th><th>Float64</th><th>Float64</th><th>Float64</th><th>Int64</th><th>Int64</th></tr></thead><tbody><p>10 rows × 14 columns (omitted printing of 4 columns)</p><tr><th>1</th><td>0.00632</td><td>18.0</td><td>2.31</td><td>0</td><td>0.538</td><td>6.575</td><td>65.2</td><td>4.09</td><td>1</td><td>296</td></tr><tr><th>2</th><td>0.02731</td><td>0.0</td><td>7.07</td><td>0</td><td>0.469</td><td>6.421</td><td>78.9</td><td>4.9671</td><td>2</td><td>242</td></tr><tr><th>3</th><td>0.02729</td><td>0.0</td><td>7.07</td><td>0</td><td>0.469</td><td>7.185</td><td>61.1</td><td>4.9671</td><td>2</td><td>242</td></tr><tr><th>4</th><td>0.03237</td><td>0.0</td><td>2.18</td><td>0</td><td>0.458</td><td>6.998</td><td>45.8</td><td>6.0622</td><td>3</td><td>222</td></tr><tr><th>5</th><td>0.06905</td><td>0.0</td><td>2.18</td><td>0</td><td>0.458</td><td>7.147</td><td>54.2</td><td>6.0622</td><td>3</td><td>222</td></tr><tr><th>6</th><td>0.02985</td><td>0.0</td><td>2.18</td><td>0</td><td>0.458</td><td>6.43</td><td>58.7</td><td>6.0622</td><td>3</td><td>222</td></tr><tr><th>7</th><td>0.08829</td><td>12.5</td><td>7.87</td><td>0</td><td>0.524</td><td>6.012</td><td>66.6</td><td>5.5605</td><td>5</td><td>311</td></tr><tr><th>8</th><td>0.14455</td><td>12.5</td><td>7.87</td><td>0</td><td>0.524</td><td>6.172</td><td>96.1</td><td>5.9505</td><td>5</td><td>311</td></tr><tr><th>9</th><td>0.21124</td><td>12.5</td><td>7.87</td><td>0</td><td>0.524</td><td>5.631</td><td>100.0</td><td>6.0821</td><td>5</td><td>311</td></tr><tr><th>10</th><td>0.17004</td><td>12.5</td><td>7.87</td><td>0</td><td>0.524</td><td>6.004</td><td>85.9</td><td>6.5921</td><td>5</td><td>311</td></tr></tbody></table>"
      ],
      "text/latex": [
       "\\begin{tabular}{r|ccccccccccc}\n",
       "\t& Crim & Zn & Indus & Chas & NOx & Rm & Age & Dis & Rad & Tax & \\\\\n",
       "\t\\hline\n",
       "\t& Float64 & Float64 & Float64 & Int64 & Float64 & Float64 & Float64 & Float64 & Int64 & Int64 & \\\\\n",
       "\t\\hline\n",
       "\t1 & 0.00632 & 18.0 & 2.31 & 0 & 0.538 & 6.575 & 65.2 & 4.09 & 1 & 296 & $\\dots$ \\\\\n",
       "\t2 & 0.02731 & 0.0 & 7.07 & 0 & 0.469 & 6.421 & 78.9 & 4.9671 & 2 & 242 & $\\dots$ \\\\\n",
       "\t3 & 0.02729 & 0.0 & 7.07 & 0 & 0.469 & 7.185 & 61.1 & 4.9671 & 2 & 242 & $\\dots$ \\\\\n",
       "\t4 & 0.03237 & 0.0 & 2.18 & 0 & 0.458 & 6.998 & 45.8 & 6.0622 & 3 & 222 & $\\dots$ \\\\\n",
       "\t5 & 0.06905 & 0.0 & 2.18 & 0 & 0.458 & 7.147 & 54.2 & 6.0622 & 3 & 222 & $\\dots$ \\\\\n",
       "\t6 & 0.02985 & 0.0 & 2.18 & 0 & 0.458 & 6.43 & 58.7 & 6.0622 & 3 & 222 & $\\dots$ \\\\\n",
       "\t7 & 0.08829 & 12.5 & 7.87 & 0 & 0.524 & 6.012 & 66.6 & 5.5605 & 5 & 311 & $\\dots$ \\\\\n",
       "\t8 & 0.14455 & 12.5 & 7.87 & 0 & 0.524 & 6.172 & 96.1 & 5.9505 & 5 & 311 & $\\dots$ \\\\\n",
       "\t9 & 0.21124 & 12.5 & 7.87 & 0 & 0.524 & 5.631 & 100.0 & 6.0821 & 5 & 311 & $\\dots$ \\\\\n",
       "\t10 & 0.17004 & 12.5 & 7.87 & 0 & 0.524 & 6.004 & 85.9 & 6.5921 & 5 & 311 & $\\dots$ \\\\\n",
       "\\end{tabular}\n"
      ],
      "text/plain": [
       "10×14 DataFrame. Omitted printing of 7 columns\n",
       "│ Row │ Crim    │ Zn      │ Indus   │ Chas  │ NOx     │ Rm      │ Age     │\n",
       "│     │ \u001b[90mFloat64\u001b[39m │ \u001b[90mFloat64\u001b[39m │ \u001b[90mFloat64\u001b[39m │ \u001b[90mInt64\u001b[39m │ \u001b[90mFloat64\u001b[39m │ \u001b[90mFloat64\u001b[39m │ \u001b[90mFloat64\u001b[39m │\n",
       "├─────┼─────────┼─────────┼─────────┼───────┼─────────┼─────────┼─────────┤\n",
       "│ 1   │ 0.00632 │ 18.0    │ 2.31    │ 0     │ 0.538   │ 6.575   │ 65.2    │\n",
       "│ 2   │ 0.02731 │ 0.0     │ 7.07    │ 0     │ 0.469   │ 6.421   │ 78.9    │\n",
       "│ 3   │ 0.02729 │ 0.0     │ 7.07    │ 0     │ 0.469   │ 7.185   │ 61.1    │\n",
       "│ 4   │ 0.03237 │ 0.0     │ 2.18    │ 0     │ 0.458   │ 6.998   │ 45.8    │\n",
       "│ 5   │ 0.06905 │ 0.0     │ 2.18    │ 0     │ 0.458   │ 7.147   │ 54.2    │\n",
       "│ 6   │ 0.02985 │ 0.0     │ 2.18    │ 0     │ 0.458   │ 6.43    │ 58.7    │\n",
       "│ 7   │ 0.08829 │ 12.5    │ 7.87    │ 0     │ 0.524   │ 6.012   │ 66.6    │\n",
       "│ 8   │ 0.14455 │ 12.5    │ 7.87    │ 0     │ 0.524   │ 6.172   │ 96.1    │\n",
       "│ 9   │ 0.21124 │ 12.5    │ 7.87    │ 0     │ 0.524   │ 5.631   │ 100.0   │\n",
       "│ 10  │ 0.17004 │ 12.5    │ 7.87    │ 0     │ 0.524   │ 6.004   │ 85.9    │"
      ]
     },
     "execution_count": 2,
     "metadata": {},
     "output_type": "execute_result"
    }
   ],
   "source": [
    "boston = dataset(\"MASS\", \"Boston\")\n",
    "first(boston, 10)"
   ]
  },
  {
   "cell_type": "code",
   "execution_count": 17,
   "metadata": {},
   "outputs": [],
   "source": [
    "indecies = MLDataUtils.shuffleobs(collect(1:nrow(boston)))\n",
    "train_ind, test_ind = MLDataUtils.splitobs(indecies, at = 0.8);"
   ]
  },
  {
   "cell_type": "code",
   "execution_count": 18,
   "metadata": {},
   "outputs": [
    {
     "data": {
      "text/html": [
       "<table class=\"data-frame\"><thead><tr><th></th><th>Crim</th><th>Zn</th><th>Indus</th><th>Chas</th><th>NOx</th><th>Rm</th><th>Age</th><th>Dis</th><th>Rad</th><th>Tax</th></tr><tr><th></th><th>Float64</th><th>Float64</th><th>Float64</th><th>Int64</th><th>Float64</th><th>Float64</th><th>Float64</th><th>Float64</th><th>Int64</th><th>Int64</th></tr></thead><tbody><p>101 rows × 14 columns (omitted printing of 4 columns)</p><tr><th>1</th><td>0.22876</td><td>0.0</td><td>8.56</td><td>0</td><td>0.52</td><td>6.405</td><td>85.4</td><td>2.7147</td><td>5</td><td>384</td></tr><tr><th>2</th><td>6.39312</td><td>0.0</td><td>18.1</td><td>0</td><td>0.584</td><td>6.162</td><td>97.4</td><td>2.206</td><td>24</td><td>666</td></tr><tr><th>3</th><td>7.05042</td><td>0.0</td><td>18.1</td><td>0</td><td>0.614</td><td>6.103</td><td>85.1</td><td>2.0218</td><td>24</td><td>666</td></tr><tr><th>4</th><td>0.03768</td><td>80.0</td><td>1.52</td><td>0</td><td>0.404</td><td>7.274</td><td>38.3</td><td>7.309</td><td>2</td><td>329</td></tr><tr><th>5</th><td>9.82349</td><td>0.0</td><td>18.1</td><td>0</td><td>0.671</td><td>6.794</td><td>98.8</td><td>1.358</td><td>24</td><td>666</td></tr><tr><th>6</th><td>8.05579</td><td>0.0</td><td>18.1</td><td>0</td><td>0.584</td><td>5.427</td><td>95.4</td><td>2.4298</td><td>24</td><td>666</td></tr><tr><th>7</th><td>0.01951</td><td>17.5</td><td>1.38</td><td>0</td><td>0.4161</td><td>7.104</td><td>59.5</td><td>9.2229</td><td>3</td><td>216</td></tr><tr><th>8</th><td>2.14918</td><td>0.0</td><td>19.58</td><td>0</td><td>0.871</td><td>5.709</td><td>98.5</td><td>1.6232</td><td>5</td><td>403</td></tr><tr><th>9</th><td>1.41385</td><td>0.0</td><td>19.58</td><td>1</td><td>0.871</td><td>6.129</td><td>96.0</td><td>1.7494</td><td>5</td><td>403</td></tr><tr><th>10</th><td>0.65665</td><td>20.0</td><td>3.97</td><td>0</td><td>0.647</td><td>6.842</td><td>100.0</td><td>2.0107</td><td>5</td><td>264</td></tr><tr><th>11</th><td>0.04981</td><td>21.0</td><td>5.64</td><td>0</td><td>0.439</td><td>5.998</td><td>21.4</td><td>6.8147</td><td>4</td><td>243</td></tr><tr><th>12</th><td>2.44953</td><td>0.0</td><td>19.58</td><td>0</td><td>0.605</td><td>6.402</td><td>95.2</td><td>2.2625</td><td>5</td><td>403</td></tr><tr><th>13</th><td>9.72418</td><td>0.0</td><td>18.1</td><td>0</td><td>0.74</td><td>6.406</td><td>97.2</td><td>2.0651</td><td>24</td><td>666</td></tr><tr><th>14</th><td>0.53412</td><td>20.0</td><td>3.97</td><td>0</td><td>0.647</td><td>7.52</td><td>89.4</td><td>2.1398</td><td>5</td><td>264</td></tr><tr><th>15</th><td>0.03578</td><td>20.0</td><td>3.33</td><td>0</td><td>0.4429</td><td>7.82</td><td>64.5</td><td>4.6947</td><td>5</td><td>216</td></tr><tr><th>16</th><td>19.6091</td><td>0.0</td><td>18.1</td><td>0</td><td>0.671</td><td>7.313</td><td>97.9</td><td>1.3163</td><td>24</td><td>666</td></tr><tr><th>17</th><td>0.05425</td><td>0.0</td><td>4.05</td><td>0</td><td>0.51</td><td>6.315</td><td>73.4</td><td>3.3175</td><td>5</td><td>296</td></tr><tr><th>18</th><td>0.03738</td><td>0.0</td><td>5.19</td><td>0</td><td>0.515</td><td>6.31</td><td>38.5</td><td>6.4584</td><td>5</td><td>224</td></tr><tr><th>19</th><td>0.7857</td><td>20.0</td><td>3.97</td><td>0</td><td>0.647</td><td>7.014</td><td>84.6</td><td>2.1329</td><td>5</td><td>264</td></tr><tr><th>20</th><td>0.09299</td><td>0.0</td><td>25.65</td><td>0</td><td>0.581</td><td>5.961</td><td>92.9</td><td>2.0869</td><td>2</td><td>188</td></tr><tr><th>21</th><td>0.1146</td><td>20.0</td><td>6.96</td><td>0</td><td>0.464</td><td>6.538</td><td>58.7</td><td>3.9175</td><td>3</td><td>223</td></tr><tr><th>22</th><td>0.52693</td><td>0.0</td><td>6.2</td><td>0</td><td>0.504</td><td>8.725</td><td>83.0</td><td>2.8944</td><td>8</td><td>307</td></tr><tr><th>23</th><td>0.37578</td><td>0.0</td><td>10.59</td><td>1</td><td>0.489</td><td>5.404</td><td>88.6</td><td>3.665</td><td>4</td><td>277</td></tr><tr><th>24</th><td>14.4208</td><td>0.0</td><td>18.1</td><td>0</td><td>0.74</td><td>6.461</td><td>93.3</td><td>2.0026</td><td>24</td><td>666</td></tr><tr><th>25</th><td>0.14455</td><td>12.5</td><td>7.87</td><td>0</td><td>0.524</td><td>6.172</td><td>96.1</td><td>5.9505</td><td>5</td><td>311</td></tr><tr><th>26</th><td>16.8118</td><td>0.0</td><td>18.1</td><td>0</td><td>0.7</td><td>5.277</td><td>98.1</td><td>1.4261</td><td>24</td><td>666</td></tr><tr><th>27</th><td>0.04011</td><td>80.0</td><td>1.52</td><td>0</td><td>0.404</td><td>7.287</td><td>34.1</td><td>7.309</td><td>2</td><td>329</td></tr><tr><th>28</th><td>0.02875</td><td>28.0</td><td>15.04</td><td>0</td><td>0.464</td><td>6.211</td><td>28.9</td><td>3.6659</td><td>4</td><td>270</td></tr><tr><th>29</th><td>0.29916</td><td>20.0</td><td>6.96</td><td>0</td><td>0.464</td><td>5.856</td><td>42.1</td><td>4.429</td><td>3</td><td>223</td></tr><tr><th>30</th><td>0.15445</td><td>25.0</td><td>5.13</td><td>0</td><td>0.453</td><td>6.145</td><td>29.2</td><td>7.8148</td><td>8</td><td>284</td></tr><tr><th>&vellip;</th><td>&vellip;</td><td>&vellip;</td><td>&vellip;</td><td>&vellip;</td><td>&vellip;</td><td>&vellip;</td><td>&vellip;</td><td>&vellip;</td><td>&vellip;</td><td>&vellip;</td></tr></tbody></table>"
      ],
      "text/latex": [
       "\\begin{tabular}{r|ccccccccccc}\n",
       "\t& Crim & Zn & Indus & Chas & NOx & Rm & Age & Dis & Rad & Tax & \\\\\n",
       "\t\\hline\n",
       "\t& Float64 & Float64 & Float64 & Int64 & Float64 & Float64 & Float64 & Float64 & Int64 & Int64 & \\\\\n",
       "\t\\hline\n",
       "\t1 & 0.22876 & 0.0 & 8.56 & 0 & 0.52 & 6.405 & 85.4 & 2.7147 & 5 & 384 & $\\dots$ \\\\\n",
       "\t2 & 6.39312 & 0.0 & 18.1 & 0 & 0.584 & 6.162 & 97.4 & 2.206 & 24 & 666 & $\\dots$ \\\\\n",
       "\t3 & 7.05042 & 0.0 & 18.1 & 0 & 0.614 & 6.103 & 85.1 & 2.0218 & 24 & 666 & $\\dots$ \\\\\n",
       "\t4 & 0.03768 & 80.0 & 1.52 & 0 & 0.404 & 7.274 & 38.3 & 7.309 & 2 & 329 & $\\dots$ \\\\\n",
       "\t5 & 9.82349 & 0.0 & 18.1 & 0 & 0.671 & 6.794 & 98.8 & 1.358 & 24 & 666 & $\\dots$ \\\\\n",
       "\t6 & 8.05579 & 0.0 & 18.1 & 0 & 0.584 & 5.427 & 95.4 & 2.4298 & 24 & 666 & $\\dots$ \\\\\n",
       "\t7 & 0.01951 & 17.5 & 1.38 & 0 & 0.4161 & 7.104 & 59.5 & 9.2229 & 3 & 216 & $\\dots$ \\\\\n",
       "\t8 & 2.14918 & 0.0 & 19.58 & 0 & 0.871 & 5.709 & 98.5 & 1.6232 & 5 & 403 & $\\dots$ \\\\\n",
       "\t9 & 1.41385 & 0.0 & 19.58 & 1 & 0.871 & 6.129 & 96.0 & 1.7494 & 5 & 403 & $\\dots$ \\\\\n",
       "\t10 & 0.65665 & 20.0 & 3.97 & 0 & 0.647 & 6.842 & 100.0 & 2.0107 & 5 & 264 & $\\dots$ \\\\\n",
       "\t11 & 0.04981 & 21.0 & 5.64 & 0 & 0.439 & 5.998 & 21.4 & 6.8147 & 4 & 243 & $\\dots$ \\\\\n",
       "\t12 & 2.44953 & 0.0 & 19.58 & 0 & 0.605 & 6.402 & 95.2 & 2.2625 & 5 & 403 & $\\dots$ \\\\\n",
       "\t13 & 9.72418 & 0.0 & 18.1 & 0 & 0.74 & 6.406 & 97.2 & 2.0651 & 24 & 666 & $\\dots$ \\\\\n",
       "\t14 & 0.53412 & 20.0 & 3.97 & 0 & 0.647 & 7.52 & 89.4 & 2.1398 & 5 & 264 & $\\dots$ \\\\\n",
       "\t15 & 0.03578 & 20.0 & 3.33 & 0 & 0.4429 & 7.82 & 64.5 & 4.6947 & 5 & 216 & $\\dots$ \\\\\n",
       "\t16 & 19.6091 & 0.0 & 18.1 & 0 & 0.671 & 7.313 & 97.9 & 1.3163 & 24 & 666 & $\\dots$ \\\\\n",
       "\t17 & 0.05425 & 0.0 & 4.05 & 0 & 0.51 & 6.315 & 73.4 & 3.3175 & 5 & 296 & $\\dots$ \\\\\n",
       "\t18 & 0.03738 & 0.0 & 5.19 & 0 & 0.515 & 6.31 & 38.5 & 6.4584 & 5 & 224 & $\\dots$ \\\\\n",
       "\t19 & 0.7857 & 20.0 & 3.97 & 0 & 0.647 & 7.014 & 84.6 & 2.1329 & 5 & 264 & $\\dots$ \\\\\n",
       "\t20 & 0.09299 & 0.0 & 25.65 & 0 & 0.581 & 5.961 & 92.9 & 2.0869 & 2 & 188 & $\\dots$ \\\\\n",
       "\t21 & 0.1146 & 20.0 & 6.96 & 0 & 0.464 & 6.538 & 58.7 & 3.9175 & 3 & 223 & $\\dots$ \\\\\n",
       "\t22 & 0.52693 & 0.0 & 6.2 & 0 & 0.504 & 8.725 & 83.0 & 2.8944 & 8 & 307 & $\\dots$ \\\\\n",
       "\t23 & 0.37578 & 0.0 & 10.59 & 1 & 0.489 & 5.404 & 88.6 & 3.665 & 4 & 277 & $\\dots$ \\\\\n",
       "\t24 & 14.4208 & 0.0 & 18.1 & 0 & 0.74 & 6.461 & 93.3 & 2.0026 & 24 & 666 & $\\dots$ \\\\\n",
       "\t25 & 0.14455 & 12.5 & 7.87 & 0 & 0.524 & 6.172 & 96.1 & 5.9505 & 5 & 311 & $\\dots$ \\\\\n",
       "\t26 & 16.8118 & 0.0 & 18.1 & 0 & 0.7 & 5.277 & 98.1 & 1.4261 & 24 & 666 & $\\dots$ \\\\\n",
       "\t27 & 0.04011 & 80.0 & 1.52 & 0 & 0.404 & 7.287 & 34.1 & 7.309 & 2 & 329 & $\\dots$ \\\\\n",
       "\t28 & 0.02875 & 28.0 & 15.04 & 0 & 0.464 & 6.211 & 28.9 & 3.6659 & 4 & 270 & $\\dots$ \\\\\n",
       "\t29 & 0.29916 & 20.0 & 6.96 & 0 & 0.464 & 5.856 & 42.1 & 4.429 & 3 & 223 & $\\dots$ \\\\\n",
       "\t30 & 0.15445 & 25.0 & 5.13 & 0 & 0.453 & 6.145 & 29.2 & 7.8148 & 8 & 284 & $\\dots$ \\\\\n",
       "\t$\\dots$ & $\\dots$ & $\\dots$ & $\\dots$ & $\\dots$ & $\\dots$ & $\\dots$ & $\\dots$ & $\\dots$ & $\\dots$ & $\\dots$ &  \\\\\n",
       "\\end{tabular}\n"
      ],
      "text/plain": [
       "101×14 DataFrame. Omitted printing of 7 columns\n",
       "│ Row │ Crim    │ Zn      │ Indus   │ Chas  │ NOx     │ Rm      │ Age     │\n",
       "│     │ \u001b[90mFloat64\u001b[39m │ \u001b[90mFloat64\u001b[39m │ \u001b[90mFloat64\u001b[39m │ \u001b[90mInt64\u001b[39m │ \u001b[90mFloat64\u001b[39m │ \u001b[90mFloat64\u001b[39m │ \u001b[90mFloat64\u001b[39m │\n",
       "├─────┼─────────┼─────────┼─────────┼───────┼─────────┼─────────┼─────────┤\n",
       "│ 1   │ 0.22876 │ 0.0     │ 8.56    │ 0     │ 0.52    │ 6.405   │ 85.4    │\n",
       "│ 2   │ 6.39312 │ 0.0     │ 18.1    │ 0     │ 0.584   │ 6.162   │ 97.4    │\n",
       "│ 3   │ 7.05042 │ 0.0     │ 18.1    │ 0     │ 0.614   │ 6.103   │ 85.1    │\n",
       "│ 4   │ 0.03768 │ 80.0    │ 1.52    │ 0     │ 0.404   │ 7.274   │ 38.3    │\n",
       "│ 5   │ 9.82349 │ 0.0     │ 18.1    │ 0     │ 0.671   │ 6.794   │ 98.8    │\n",
       "│ 6   │ 8.05579 │ 0.0     │ 18.1    │ 0     │ 0.584   │ 5.427   │ 95.4    │\n",
       "│ 7   │ 0.01951 │ 17.5    │ 1.38    │ 0     │ 0.4161  │ 7.104   │ 59.5    │\n",
       "│ 8   │ 2.14918 │ 0.0     │ 19.58   │ 0     │ 0.871   │ 5.709   │ 98.5    │\n",
       "│ 9   │ 1.41385 │ 0.0     │ 19.58   │ 1     │ 0.871   │ 6.129   │ 96.0    │\n",
       "│ 10  │ 0.65665 │ 20.0    │ 3.97    │ 0     │ 0.647   │ 6.842   │ 100.0   │\n",
       "⋮\n",
       "│ 91  │ 0.03932 │ 0.0     │ 3.41    │ 0     │ 0.489   │ 6.405   │ 73.9    │\n",
       "│ 92  │ 0.33045 │ 0.0     │ 6.2     │ 0     │ 0.507   │ 6.086   │ 61.5    │\n",
       "│ 93  │ 0.02009 │ 95.0    │ 2.68    │ 0     │ 0.4161  │ 8.034   │ 31.9    │\n",
       "│ 94  │ 0.19539 │ 0.0     │ 10.81   │ 0     │ 0.413   │ 6.245   │ 6.2     │\n",
       "│ 95  │ 5.66637 │ 0.0     │ 18.1    │ 0     │ 0.74    │ 6.219   │ 100.0   │\n",
       "│ 96  │ 0.06617 │ 0.0     │ 3.24    │ 0     │ 0.46    │ 5.868   │ 25.8    │\n",
       "│ 97  │ 0.12932 │ 0.0     │ 13.92   │ 0     │ 0.437   │ 6.678   │ 31.1    │\n",
       "│ 98  │ 0.09178 │ 0.0     │ 4.05    │ 0     │ 0.51    │ 6.416   │ 84.1    │\n",
       "│ 99  │ 0.02187 │ 60.0    │ 2.93    │ 0     │ 0.401   │ 6.8     │ 9.9     │\n",
       "│ 100 │ 4.75237 │ 0.0     │ 18.1    │ 0     │ 0.713   │ 6.525   │ 86.5    │\n",
       "│ 101 │ 18.0846 │ 0.0     │ 18.1    │ 0     │ 0.679   │ 6.434   │ 100.0   │"
      ]
     },
     "execution_count": 18,
     "metadata": {},
     "output_type": "execute_result"
    }
   ],
   "source": [
    "train = boston[train_ind, :]\n",
    "test = boston[test_ind, :]"
   ]
  },
  {
   "cell_type": "code",
   "execution_count": 13,
   "metadata": {},
   "outputs": [
    {
     "data": {
      "text/plain": [
       "14-element Array{Symbol,1}:\n",
       " :Crim   \n",
       " :Zn     \n",
       " :Indus  \n",
       " :Chas   \n",
       " :NOx    \n",
       " :Rm     \n",
       " :Age    \n",
       " :Dis    \n",
       " :Rad    \n",
       " :Tax    \n",
       " :PTRatio\n",
       " :Black  \n",
       " :LStat  \n",
       " :MedV   "
      ]
     },
     "execution_count": 13,
     "metadata": {},
     "output_type": "execute_result"
    }
   ],
   "source": [
    "names(boston)"
   ]
  },
  {
   "cell_type": "code",
   "execution_count": 19,
   "metadata": {},
   "outputs": [
    {
     "data": {
      "text/plain": [
       "StatsModels.TableRegressionModel{LinearModel{GLM.LmResp{Array{Float64,1}},GLM.DensePredChol{Float64,LinearAlgebra.Cholesky{Float64,Array{Float64,2}}}},Array{Float64,2}}\n",
       "\n",
       "Crim ~ 1 + Zn + Indus + Chas + NOx + Rm + Age + Dis + Rad + Tax + PTRatio + Black + LStat + MedV\n",
       "\n",
       "Coefficients:\n",
       "──────────────────────────────────────────────────────────────────────────────────────\n",
       "                  Estimate  Std. Error     t value  Pr(>|t|)    Lower 95%    Upper 95%\n",
       "──────────────────────────────────────────────────────────────────────────────────────\n",
       "(Intercept)   17.7255       8.67495      2.0433       0.0417    0.670136   34.7809    \n",
       "Zn             0.0494975    0.0232565    2.12833      0.0339    0.003774    0.095221  \n",
       "Indus         -0.0976118    0.106035    -0.920561     0.3578   -0.306082    0.110859  \n",
       "Chas          -0.572903     1.45433     -0.393929     0.6938   -3.43219     2.28638   \n",
       "NOx          -10.932        6.44883     -1.69519      0.0908  -23.6107      1.74671   \n",
       "Rm             0.85444      0.728462     1.17294      0.2415   -0.577752    2.28663   \n",
       "Age           -0.000569378  0.0220428   -0.0258306    0.9794   -0.0439066   0.0427678 \n",
       "Dis           -1.17402      0.366127    -3.20659      0.0015   -1.89384    -0.454195  \n",
       "Rad            0.603474     0.104458     5.7772       <1e-7     0.398104    0.808843  \n",
       "Tax           -0.00380468   0.00641274  -0.593301     0.5533   -0.0164124   0.00880307\n",
       "PTRatio       -0.281913     0.226076    -1.24699      0.2131   -0.726389    0.162563  \n",
       "Black         -0.0107591    0.00455452  -2.3623       0.0187   -0.0197136  -0.00180473\n",
       "LStat          0.146159     0.0897564    1.6284       0.1042   -0.0303062   0.322625  \n",
       "MedV          -0.228593     0.0708849   -3.22485      0.0014   -0.367957   -0.0892301 \n",
       "──────────────────────────────────────────────────────────────────────────────────────"
      ]
     },
     "execution_count": 19,
     "metadata": {},
     "output_type": "execute_result"
    }
   ],
   "source": [
    "ols = GLM.lm(@formula(Crim ~ \n",
    "        Zn + Indus + Chas + NOx + Rm + Age + Dis + Rad + \n",
    "        Tax + PTRatio + Black + LStat + MedV), train)"
   ]
  },
  {
   "cell_type": "code",
   "execution_count": 8,
   "metadata": {},
   "outputs": [
    {
     "data": {
      "text/plain": [
       "101-element Array{Union{Missing, Float64},1}:\n",
       "  0.4938516310325465\n",
       "  1.632659800332978 \n",
       "  1.9285542312313124\n",
       "  9.191444639242146 \n",
       " 13.816423159192974 \n",
       " -0.5237416483955455\n",
       " 18.4394104255622   \n",
       "  3.767050983359997 \n",
       "  0.422461280217048 \n",
       "  2.818488775886588 \n",
       " -0.7542114686300536\n",
       "  2.6451829431935927\n",
       "  0.8467476692539169\n",
       "  ⋮                 \n",
       " -1.8008229304223766\n",
       " 15.423759199541916 \n",
       "  0.9842985833327376\n",
       " -0.7212260134843884\n",
       " -0.2775802657493802\n",
       " -0.7726612321006314\n",
       "  4.372508982493573 \n",
       " -4.459436532842503 \n",
       "  0.5936311466644622\n",
       "  9.78477387593924  \n",
       " 15.513355203545945 \n",
       " -4.061155227004143 "
      ]
     },
     "execution_count": 8,
     "metadata": {},
     "output_type": "execute_result"
    }
   ],
   "source": [
    "predict(ols, test)"
   ]
  },
  {
   "cell_type": "code",
   "execution_count": 20,
   "metadata": {},
   "outputs": [
    {
     "data": {
      "text/plain": [
       "0.44440183074401773"
      ]
     },
     "execution_count": 20,
     "metadata": {},
     "output_type": "execute_result"
    }
   ],
   "source": [
    "GLM.r²(ols)"
   ]
  },
  {
   "cell_type": "code",
   "execution_count": 21,
   "metadata": {},
   "outputs": [
    {
     "data": {
      "text/plain": [
       "0.425929257341645"
      ]
     },
     "execution_count": 21,
     "metadata": {},
     "output_type": "execute_result"
    }
   ],
   "source": [
    "GLM.adjr²(ols)"
   ]
  },
  {
   "cell_type": "code",
   "execution_count": 25,
   "metadata": {},
   "outputs": [
    {
     "ename": "UndefVarError",
     "evalue": "UndefVarError: descr not defined",
     "output_type": "error",
     "traceback": [
      "UndefVarError: descr not defined",
      "",
      "Stacktrace:",
      " [1] top-level scope at In[25]:1"
     ]
    }
   ],
   "source": [
    "descr(boston)"
   ]
  },
  {
   "cell_type": "code",
   "execution_count": null,
   "metadata": {},
   "outputs": [],
   "source": []
  }
 ],
 "metadata": {
  "kernelspec": {
   "display_name": "Julia 1.2.0",
   "language": "julia",
   "name": "julia-1.2"
  },
  "language_info": {
   "file_extension": ".jl",
   "mimetype": "application/julia",
   "name": "julia",
   "version": "1.2.0"
  }
 },
 "nbformat": 4,
 "nbformat_minor": 4
}
